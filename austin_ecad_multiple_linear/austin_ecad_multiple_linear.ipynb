{
 "cells": [
  {
   "cell_type": "markdown",
   "metadata": {},
   "source": [
    "## EDA"
   ]
  },
  {
   "cell_type": "code",
   "execution_count": 443,
   "metadata": {},
   "outputs": [],
   "source": [
    "import pandas as pd\n",
    "import numpy as np"
   ]
  },
  {
   "cell_type": "code",
   "execution_count": 444,
   "metadata": {},
   "outputs": [],
   "source": [
    "import matplotlib.pyplot as plt\n",
    "import seaborn as sns"
   ]
  },
  {
   "cell_type": "code",
   "execution_count": 445,
   "metadata": {},
   "outputs": [
    {
     "data": {
      "text/html": [
       "<div>\n",
       "<style scoped>\n",
       "    .dataframe tbody tr th:only-of-type {\n",
       "        vertical-align: middle;\n",
       "    }\n",
       "\n",
       "    .dataframe tbody tr th {\n",
       "        vertical-align: top;\n",
       "    }\n",
       "\n",
       "    .dataframe thead th {\n",
       "        text-align: right;\n",
       "    }\n",
       "</style>\n",
       "<table border=\"1\" class=\"dataframe\">\n",
       "  <thead>\n",
       "    <tr style=\"text-align: right;\">\n",
       "      <th></th>\n",
       "      <th>Property ID #</th>\n",
       "      <th>Property Name</th>\n",
       "      <th>Property Management Company Name</th>\n",
       "      <th>Full Street Address</th>\n",
       "      <th>ECAD Year Built</th>\n",
       "      <th>Current ECAD Status</th>\n",
       "      <th>ECAD Audit Date</th>\n",
       "      <th>ECAD Exemption or Rebate Date</th>\n",
       "      <th>ECAD Auditor Company</th>\n",
       "      <th>ECAD Number of Buildings</th>\n",
       "      <th>...</th>\n",
       "      <th>Yearly kWh</th>\n",
       "      <th>ECAD Number of Floors</th>\n",
       "      <th>ECAD R Value</th>\n",
       "      <th>ECAD Percent Duct Leakage</th>\n",
       "      <th>Heat Type</th>\n",
       "      <th>ECAD Rentable sqft</th>\n",
       "      <th>ECAD Recommended Duct Leakage</th>\n",
       "      <th>ECAD Screens</th>\n",
       "      <th>Window Type</th>\n",
       "      <th>Roof Type</th>\n",
       "    </tr>\n",
       "  </thead>\n",
       "  <tbody>\n",
       "    <tr>\n",
       "      <th>0</th>\n",
       "      <td>208476</td>\n",
       "      <td>Park Avenue Place</td>\n",
       "      <td>NaN</td>\n",
       "      <td>306 E 30Th St  Austin, TX 78705</td>\n",
       "      <td>1960</td>\n",
       "      <td>Audited &lt; 10 years</td>\n",
       "      <td>01/01/2012 12:00:00 AM</td>\n",
       "      <td>NaN</td>\n",
       "      <td>A+ Energy</td>\n",
       "      <td>1.0</td>\n",
       "      <td>...</td>\n",
       "      <td>90152.26</td>\n",
       "      <td>2.0</td>\n",
       "      <td>20.0</td>\n",
       "      <td>73.0</td>\n",
       "      <td>HP</td>\n",
       "      <td>11350.0</td>\n",
       "      <td>0.15</td>\n",
       "      <td>Complete</td>\n",
       "      <td>Pitched Roof</td>\n",
       "      <td>Shingle</td>\n",
       "    </tr>\n",
       "    <tr>\n",
       "      <th>1</th>\n",
       "      <td>208518</td>\n",
       "      <td>Palisades Apartments</td>\n",
       "      <td>Fairway Properties</td>\n",
       "      <td>307 E 31 St  Austin, TX 78705</td>\n",
       "      <td>1964</td>\n",
       "      <td>Audited &lt; 10 years</td>\n",
       "      <td>11/07/2017 12:00:00 AM</td>\n",
       "      <td>NaN</td>\n",
       "      <td>Austin Auditors</td>\n",
       "      <td>5.0</td>\n",
       "      <td>...</td>\n",
       "      <td>81446.99</td>\n",
       "      <td>2.0</td>\n",
       "      <td>2.0</td>\n",
       "      <td>73.0</td>\n",
       "      <td>G</td>\n",
       "      <td>31175.0</td>\n",
       "      <td>0.15</td>\n",
       "      <td>Complete</td>\n",
       "      <td>Flat Roof</td>\n",
       "      <td>Shingle</td>\n",
       "    </tr>\n",
       "    <tr>\n",
       "      <th>2</th>\n",
       "      <td>208520</td>\n",
       "      <td>Palisades Apartments</td>\n",
       "      <td>Fairway Properties</td>\n",
       "      <td>311 E 31 St  Austin, TX 78705</td>\n",
       "      <td>1966</td>\n",
       "      <td>Audited &lt; 10 years</td>\n",
       "      <td>11/07/2017 12:00:00 AM</td>\n",
       "      <td>NaN</td>\n",
       "      <td>Austin Auditors</td>\n",
       "      <td>NaN</td>\n",
       "      <td>...</td>\n",
       "      <td>125275.26</td>\n",
       "      <td>3.0</td>\n",
       "      <td>2.0</td>\n",
       "      <td>80.0</td>\n",
       "      <td>NaN</td>\n",
       "      <td>17720.0</td>\n",
       "      <td>0.15</td>\n",
       "      <td>Complete</td>\n",
       "      <td>Flat Roof</td>\n",
       "      <td>Shingle</td>\n",
       "    </tr>\n",
       "    <tr>\n",
       "      <th>3</th>\n",
       "      <td>208607</td>\n",
       "      <td>3110 Duval St</td>\n",
       "      <td>NaN</td>\n",
       "      <td>3110 Duval St  Austin, TX 78705</td>\n",
       "      <td>1946</td>\n",
       "      <td>No Recent Audit on file</td>\n",
       "      <td>NaN</td>\n",
       "      <td>NaN</td>\n",
       "      <td>NaN</td>\n",
       "      <td>NaN</td>\n",
       "      <td>...</td>\n",
       "      <td>37764.06</td>\n",
       "      <td>2.0</td>\n",
       "      <td>NaN</td>\n",
       "      <td>NaN</td>\n",
       "      <td>ER</td>\n",
       "      <td>NaN</td>\n",
       "      <td>NaN</td>\n",
       "      <td>NaN</td>\n",
       "      <td>NaN</td>\n",
       "      <td>NaN</td>\n",
       "    </tr>\n",
       "    <tr>\n",
       "      <th>4</th>\n",
       "      <td>208608</td>\n",
       "      <td>Chateau Duval Apartments</td>\n",
       "      <td>Fairway Properties</td>\n",
       "      <td>3106 Duval Street  Austin, TX 78705</td>\n",
       "      <td>1966</td>\n",
       "      <td>Audited &lt; 10 years</td>\n",
       "      <td>05/23/2011 12:00:00 AM</td>\n",
       "      <td>NaN</td>\n",
       "      <td>1st Choice Energy</td>\n",
       "      <td>1.0</td>\n",
       "      <td>...</td>\n",
       "      <td>136176.77</td>\n",
       "      <td>3.0</td>\n",
       "      <td>1.0</td>\n",
       "      <td>75.0</td>\n",
       "      <td>CB</td>\n",
       "      <td>14830.0</td>\n",
       "      <td>0.15</td>\n",
       "      <td>Complete</td>\n",
       "      <td>Flat</td>\n",
       "      <td>Single-Ply</td>\n",
       "    </tr>\n",
       "  </tbody>\n",
       "</table>\n",
       "<p>5 rows × 30 columns</p>\n",
       "</div>"
      ],
      "text/plain": [
       "  Property ID #             Property Name Property Management Company Name  \\\n",
       "0        208476         Park Avenue Place                              NaN   \n",
       "1        208518      Palisades Apartments               Fairway Properties   \n",
       "2        208520      Palisades Apartments               Fairway Properties   \n",
       "3        208607             3110 Duval St                              NaN   \n",
       "4        208608  Chateau Duval Apartments               Fairway Properties   \n",
       "\n",
       "                   Full Street Address ECAD Year Built  \\\n",
       "0      306 E 30Th St  Austin, TX 78705            1960   \n",
       "1        307 E 31 St  Austin, TX 78705            1964   \n",
       "2        311 E 31 St  Austin, TX 78705            1966   \n",
       "3      3110 Duval St  Austin, TX 78705            1946   \n",
       "4  3106 Duval Street  Austin, TX 78705            1966   \n",
       "\n",
       "       Current ECAD Status         ECAD Audit Date  \\\n",
       "0       Audited < 10 years  01/01/2012 12:00:00 AM   \n",
       "1       Audited < 10 years  11/07/2017 12:00:00 AM   \n",
       "2       Audited < 10 years  11/07/2017 12:00:00 AM   \n",
       "3  No Recent Audit on file                     NaN   \n",
       "4       Audited < 10 years  05/23/2011 12:00:00 AM   \n",
       "\n",
       "  ECAD Exemption or Rebate Date ECAD Auditor Company  \\\n",
       "0                           NaN            A+ Energy   \n",
       "1                           NaN      Austin Auditors   \n",
       "2                           NaN      Austin Auditors   \n",
       "3                           NaN                  NaN   \n",
       "4                           NaN    1st Choice Energy   \n",
       "\n",
       "   ECAD Number of Buildings  ...  Yearly kWh ECAD Number of Floors  \\\n",
       "0                       1.0  ...    90152.26                   2.0   \n",
       "1                       5.0  ...    81446.99                   2.0   \n",
       "2                       NaN  ...   125275.26                   3.0   \n",
       "3                       NaN  ...    37764.06                   2.0   \n",
       "4                       1.0  ...   136176.77                   3.0   \n",
       "\n",
       "   ECAD R Value  ECAD Percent Duct Leakage  Heat Type  ECAD Rentable sqft  \\\n",
       "0          20.0                       73.0         HP             11350.0   \n",
       "1           2.0                       73.0          G             31175.0   \n",
       "2           2.0                       80.0        NaN             17720.0   \n",
       "3           NaN                        NaN         ER                 NaN   \n",
       "4           1.0                       75.0         CB             14830.0   \n",
       "\n",
       "   ECAD Recommended Duct Leakage  ECAD Screens   Window Type   Roof Type  \n",
       "0                           0.15      Complete  Pitched Roof     Shingle  \n",
       "1                           0.15      Complete     Flat Roof     Shingle  \n",
       "2                           0.15      Complete     Flat Roof     Shingle  \n",
       "3                            NaN           NaN           NaN         NaN  \n",
       "4                           0.15      Complete          Flat  Single-Ply  \n",
       "\n",
       "[5 rows x 30 columns]"
      ]
     },
     "execution_count": 445,
     "metadata": {},
     "output_type": "execute_result"
    }
   ],
   "source": [
    "url = (\"https://raw.githubusercontent.com/nicholasbroussard/tutorials/master/Austin%20ECAD%20(Multiple%20Linear)/austinecad_linear.multiple.csv\")\n",
    "df = pd.read_csv (url)\n",
    "df.head()"
   ]
  },
  {
   "cell_type": "code",
   "execution_count": 446,
   "metadata": {},
   "outputs": [
    {
     "data": {
      "text/plain": [
       "Property ID #                        object\n",
       "Property Name                        object\n",
       "Property Management Company Name     object\n",
       "Full Street Address                  object\n",
       "ECAD Year Built                      object\n",
       "Current ECAD Status                  object\n",
       "ECAD Audit Date                      object\n",
       "ECAD Exemption or Rebate Date        object\n",
       "ECAD Auditor Company                 object\n",
       "ECAD Number of Buildings            float64\n",
       "ECAD Total Apts                     float64\n",
       "ECAD Utilities                       object\n",
       "Average_Monthly_Cost                float64\n",
       "Average Monthly kWh                 float64\n",
       "Average Apt Size                    float64\n",
       "ECAD Total sqft                     float64\n",
       "Yearly EUI                          float64\n",
       "Zip Code                            float64\n",
       "Apt Meters                          float64\n",
       "Apartment Count                     float64\n",
       "Yearly kWh                          float64\n",
       "ECAD Number of Floors               float64\n",
       "ECAD R Value                        float64\n",
       "ECAD Percent Duct Leakage           float64\n",
       "Heat Type                            object\n",
       "ECAD Rentable sqft                  float64\n",
       "ECAD Recommended Duct Leakage       float64\n",
       "ECAD Screens                         object\n",
       "Window Type                          object\n",
       "Roof Type                            object\n",
       "dtype: object"
      ]
     },
     "execution_count": 446,
     "metadata": {},
     "output_type": "execute_result"
    }
   ],
   "source": [
    "#Check the variable types. \n",
    "df.dtypes"
   ]
  },
  {
   "cell_type": "code",
   "execution_count": 447,
   "metadata": {},
   "outputs": [
    {
     "name": "stdout",
     "output_type": "stream",
     "text": [
      "Property ID #\n",
      "Property Name\n",
      "Property Management Company Name\n",
      "Full Street Address\n",
      "ECAD Year Built\n",
      "Current ECAD Status\n",
      "ECAD Audit Date\n",
      "ECAD Exemption or Rebate Date\n",
      "ECAD Auditor Company\n",
      "ECAD Number of Buildings\n",
      "ECAD Total Apts\n",
      "ECAD Utilities\n",
      "Average_Monthly_Cost\n",
      "Average Monthly kWh\n",
      "Average Apt Size\n",
      "ECAD Total sqft\n",
      "Yearly EUI\n",
      "Zip Code\n",
      "Apt Meters\n",
      "Apartment Count\n",
      "Yearly kWh\n",
      "ECAD Number of Floors\n",
      "ECAD R Value\n",
      "ECAD Percent Duct Leakage\n",
      "Heat Type\n",
      "ECAD Rentable sqft\n",
      "ECAD Recommended Duct Leakage\n",
      "ECAD Screens\n",
      "Window Type\n",
      "Roof Type\n"
     ]
    }
   ],
   "source": [
    "#Get column names.\n",
    "for col in df:\n",
    "    print(col)"
   ]
  },
  {
   "cell_type": "code",
   "execution_count": 448,
   "metadata": {},
   "outputs": [],
   "source": [
    "#Select variables and rename.\n",
    "df = df[[\"Average Monthly kWh\",\"ECAD Year Built\",\"Average Apt Size\", \"ECAD R Value\", \"ECAD Number of Floors\"]]\n",
    "df.rename(columns = {\"Average Monthly kWh\":\"Energy\", \n",
    "                     \"ECAD Year Built\":\"YearBuilt\",\n",
    "                     \"Average Apt Size\":\"Size\",\n",
    "                     \"ECAD R Value\":\"RValue\",\n",
    "                     \"ECAD Number of Floors\":\"Floors\"}, \n",
    "          inplace=True)"
   ]
  },
  {
   "cell_type": "code",
   "execution_count": 449,
   "metadata": {},
   "outputs": [
    {
     "name": "stdout",
     "output_type": "stream",
     "text": [
      "<class 'pandas.core.frame.DataFrame'>\n",
      "RangeIndex: 1495 entries, 0 to 1494\n",
      "Data columns (total 5 columns):\n",
      "Energy       1490 non-null float64\n",
      "YearBuilt    1490 non-null object\n",
      "Size         1490 non-null float64\n",
      "RValue       905 non-null float64\n",
      "Floors       1477 non-null float64\n",
      "dtypes: float64(4), object(1)\n",
      "memory usage: 58.5+ KB\n"
     ]
    }
   ],
   "source": [
    "#View structure.\n",
    "df.info()"
   ]
  },
  {
   "cell_type": "code",
   "execution_count": 450,
   "metadata": {},
   "outputs": [],
   "source": [
    "#Recode variable types.\n",
    "df['YearBuilt'] = pd.to_numeric(df['YearBuilt'],errors='coerce')\n",
    "df.replace('2009 /2006', np.NaN, inplace=True) #There's a value \"2009/2006\" that needs to be recoded as NA.\n",
    "df['YearBuilt'] = pd.to_numeric(df['YearBuilt'],errors='coerce')\n",
    "df['Floors'] = df['Floors'].astype(str)"
   ]
  },
  {
   "cell_type": "code",
   "execution_count": 451,
   "metadata": {},
   "outputs": [],
   "source": [
    "#Add energy/sft var.\n",
    "df['EnergyUsePerSft'] = df['Energy']/df['Size']"
   ]
  },
  {
   "cell_type": "code",
   "execution_count": 452,
   "metadata": {},
   "outputs": [
    {
     "data": {
      "text/html": [
       "<div>\n",
       "<style scoped>\n",
       "    .dataframe tbody tr th:only-of-type {\n",
       "        vertical-align: middle;\n",
       "    }\n",
       "\n",
       "    .dataframe tbody tr th {\n",
       "        vertical-align: top;\n",
       "    }\n",
       "\n",
       "    .dataframe thead th {\n",
       "        text-align: right;\n",
       "    }\n",
       "</style>\n",
       "<table border=\"1\" class=\"dataframe\">\n",
       "  <thead>\n",
       "    <tr style=\"text-align: right;\">\n",
       "      <th></th>\n",
       "      <th>Energy</th>\n",
       "      <th>YearBuilt</th>\n",
       "      <th>Size</th>\n",
       "      <th>RValue</th>\n",
       "      <th>EnergyUsePerSft</th>\n",
       "    </tr>\n",
       "  </thead>\n",
       "  <tbody>\n",
       "    <tr>\n",
       "      <th>count</th>\n",
       "      <td>1490.000000</td>\n",
       "      <td>1489.000000</td>\n",
       "      <td>1490.000000</td>\n",
       "      <td>905.000000</td>\n",
       "      <td>1490.000000</td>\n",
       "    </tr>\n",
       "    <tr>\n",
       "      <th>mean</th>\n",
       "      <td>577.337584</td>\n",
       "      <td>1980.127602</td>\n",
       "      <td>743.752242</td>\n",
       "      <td>12.852906</td>\n",
       "      <td>0.798773</td>\n",
       "    </tr>\n",
       "    <tr>\n",
       "      <th>std</th>\n",
       "      <td>212.120085</td>\n",
       "      <td>55.100579</td>\n",
       "      <td>229.364843</td>\n",
       "      <td>9.995810</td>\n",
       "      <td>0.245760</td>\n",
       "    </tr>\n",
       "    <tr>\n",
       "      <th>min</th>\n",
       "      <td>0.000000</td>\n",
       "      <td>0.000000</td>\n",
       "      <td>168.890000</td>\n",
       "      <td>1.000000</td>\n",
       "      <td>0.000000</td>\n",
       "    </tr>\n",
       "    <tr>\n",
       "      <th>25%</th>\n",
       "      <td>427.000000</td>\n",
       "      <td>1969.000000</td>\n",
       "      <td>583.005000</td>\n",
       "      <td>1.000000</td>\n",
       "      <td>0.629988</td>\n",
       "    </tr>\n",
       "    <tr>\n",
       "      <th>50%</th>\n",
       "      <td>560.000000</td>\n",
       "      <td>1978.000000</td>\n",
       "      <td>735.195000</td>\n",
       "      <td>12.000000</td>\n",
       "      <td>0.777447</td>\n",
       "    </tr>\n",
       "    <tr>\n",
       "      <th>75%</th>\n",
       "      <td>706.000000</td>\n",
       "      <td>1997.000000</td>\n",
       "      <td>883.725000</td>\n",
       "      <td>19.000000</td>\n",
       "      <td>0.960313</td>\n",
       "    </tr>\n",
       "    <tr>\n",
       "      <th>max</th>\n",
       "      <td>1513.000000</td>\n",
       "      <td>2019.000000</td>\n",
       "      <td>2123.880000</td>\n",
       "      <td>42.000000</td>\n",
       "      <td>1.686372</td>\n",
       "    </tr>\n",
       "  </tbody>\n",
       "</table>\n",
       "</div>"
      ],
      "text/plain": [
       "            Energy    YearBuilt         Size      RValue  EnergyUsePerSft\n",
       "count  1490.000000  1489.000000  1490.000000  905.000000      1490.000000\n",
       "mean    577.337584  1980.127602   743.752242   12.852906         0.798773\n",
       "std     212.120085    55.100579   229.364843    9.995810         0.245760\n",
       "min       0.000000     0.000000   168.890000    1.000000         0.000000\n",
       "25%     427.000000  1969.000000   583.005000    1.000000         0.629988\n",
       "50%     560.000000  1978.000000   735.195000   12.000000         0.777447\n",
       "75%     706.000000  1997.000000   883.725000   19.000000         0.960313\n",
       "max    1513.000000  2019.000000  2123.880000   42.000000         1.686372"
      ]
     },
     "execution_count": 452,
     "metadata": {},
     "output_type": "execute_result"
    }
   ],
   "source": [
    "#Inspect numerics. 5numsum.\n",
    "df.describe()"
   ]
  },
  {
   "cell_type": "code",
   "execution_count": 453,
   "metadata": {},
   "outputs": [],
   "source": [
    "#Remove all YearBuilt values <1850.\n",
    "df.loc[df.YearBuilt < 1850, 'YearBuilt'] = np.nan"
   ]
  },
  {
   "cell_type": "code",
   "execution_count": 454,
   "metadata": {},
   "outputs": [
    {
     "data": {
      "text/plain": [
       "Text(0.5, 1.0, 'RValue Outliers')"
      ]
     },
     "execution_count": 454,
     "metadata": {},
     "output_type": "execute_result"
    },
    {
     "data": {
      "image/png": "[encoded data removed]",
      "text/plain": [
       "<Figure size 720x1440 with 10 Axes>"
      ]
     },
     "metadata": {
      "needs_background": "light"
     },
     "output_type": "display_data"
    }
   ],
   "source": [
    "#...histograms and outliers\n",
    "fig, axes = plt.subplots(nrows=5, ncols=2, figsize=(10, 20))\n",
    "\n",
    "df['Energy'].hist(bins=50, ax=axes[0,0]); axes[0,0].set_title('Energy Distribution')\n",
    "df['Energy'].plot(kind='box',ax=axes[0,1]);axes[0,1].set_title('Energy Outliers')\n",
    "df['EnergyUsePerSft'].hist(bins=30, ax=axes[1,0]); axes[1,0].set_title('Energy/Sft Distribution')\n",
    "df['EnergyUsePerSft'].plot(kind='box',ax=axes[1,1]);axes[1,1].set_title('Energy/Sft Outliers')\n",
    "df['Size'].hist(ax=axes[2,0],bins=20);axes[2,0].set_title('Size Distribution')\n",
    "df['Size'].plot(kind='box',ax=axes[2,1]);axes[2,1].set_title('Size Distribution')\n",
    "df['YearBuilt'].hist(ax=axes[3,0], range=[1900,2025],bins=20);axes[3,0].set_title('Year Built Distribution')\n",
    "df['YearBuilt'].plot(kind='box',ax=axes[3,1]);axes[3,1].set_title('YearBuilt Outliers')\n",
    "df['RValue'].hist(ax=axes[4,0],bins=30);axes[4,0].set_title('RValue Distribution')\n",
    "df['RValue'].plot(kind='box',ax=axes[4,1]);axes[4,1].set_title('RValue Outliers')"
   ]
  },
  {
   "cell_type": "code",
   "execution_count": 455,
   "metadata": {},
   "outputs": [],
   "source": [
    "#Replace outliers with NaN.\n",
    "q1 = df.quantile(0.25)\n",
    "q3 = df.quantile(0.75)\n",
    "iqr = q3 - q1\n",
    "df[\"Energy\"] = np.where(df[\"Energy\"] < (q1['Energy'] - 1.5 * iqr['Energy']), np.nan ,df['Energy'])\n",
    "df[\"Energy\"] = np.where(df[\"Energy\"] > (q3['Energy'] + 1.5 * iqr['Energy']), np.nan ,df['Energy'])\n",
    "df[\"EnergyUsePerSft\"] = np.where(df[\"EnergyUsePerSft\"] < (q1['EnergyUsePerSft'] - 1.5 * iqr['EnergyUsePerSft']), np.nan ,df['EnergyUsePerSft'])\n",
    "df[\"EnergyUsePerSft\"] = np.where(df[\"EnergyUsePerSft\"] > (q3['EnergyUsePerSft'] + 1.5 * iqr['EnergyUsePerSft']), np.nan ,df['EnergyUsePerSft'])\n",
    "df['Size'] = np.where(df['Size'] < (q1['Size'] - 1.5*iqr['Size']), np.nan, df['Size'])\n",
    "df['Size'] = np.where(df['Size'] > (q3['Size'] + 1.5*iqr['Size']), np.nan, df['Size'])\n",
    "df['RValue'] = np.where(df['RValue'] < (q1['RValue'] - 1.5*iqr['RValue']), np.nan, df['RValue'])\n",
    "df['RValue'] = np.where(df['RValue'] > (q3['RValue'] + 1.5*iqr['RValue']), np.nan, df['RValue'])\n",
    "df['YearBuilt'] = np.where(df['YearBuilt'] < (q1['YearBuilt'] - 1.5*iqr['YearBuilt']), np.nan, df['YearBuilt'])\n",
    "df['YearBuilt'] = np.where(df['YearBuilt'] > (q3['YearBuilt'] + 1.5*iqr['YearBuilt']), np.nan, df['YearBuilt'])"
   ]
  },
  {
   "cell_type": "code",
   "execution_count": 456,
   "metadata": {},
   "outputs": [
    {
     "data": {
      "text/plain": [
       "<matplotlib.axes._subplots.AxesSubplot at 0x188b00ed898>"
      ]
     },
     "execution_count": 456,
     "metadata": {},
     "output_type": "execute_result"
    },
    {
     "data": {
      "image/png": "[encoded data removed]",
      "text/plain": [
       "<Figure size 432x288 with 1 Axes>"
      ]
     },
     "metadata": {
      "needs_background": "light"
     },
     "output_type": "display_data"
    }
   ],
   "source": [
    "#Inspect categoricals. \n",
    "df.Floors.value_counts().plot(kind=\"bar\")"
   ]
  },
  {
   "cell_type": "code",
   "execution_count": 457,
   "metadata": {},
   "outputs": [
    {
     "data": {
      "text/plain": [
       "1374"
      ]
     },
     "execution_count": 457,
     "metadata": {},
     "output_type": "execute_result"
    }
   ],
   "source": [
    "#Filter for Floor == 1, 2, or 3. Keep NAs.\n",
    "df = df[(df.Floors=='1.0') | (df.Floors=='2.0') | (df.Floors=='3.0') | (df.Floors.isnull())]\n",
    "len(df)"
   ]
  },
  {
   "cell_type": "code",
   "execution_count": 458,
   "metadata": {},
   "outputs": [
    {
     "data": {
      "text/html": [
       "<div>\n",
       "<style scoped>\n",
       "    .dataframe tbody tr th:only-of-type {\n",
       "        vertical-align: middle;\n",
       "    }\n",
       "\n",
       "    .dataframe tbody tr th {\n",
       "        vertical-align: top;\n",
       "    }\n",
       "\n",
       "    .dataframe thead th {\n",
       "        text-align: right;\n",
       "    }\n",
       "</style>\n",
       "<table border=\"1\" class=\"dataframe\">\n",
       "  <thead>\n",
       "    <tr style=\"text-align: right;\">\n",
       "      <th></th>\n",
       "      <th>1.0</th>\n",
       "      <th>2.0</th>\n",
       "      <th>3.0</th>\n",
       "    </tr>\n",
       "  </thead>\n",
       "  <tbody>\n",
       "    <tr>\n",
       "      <th>0</th>\n",
       "      <td>0</td>\n",
       "      <td>1</td>\n",
       "      <td>0</td>\n",
       "    </tr>\n",
       "    <tr>\n",
       "      <th>1</th>\n",
       "      <td>0</td>\n",
       "      <td>1</td>\n",
       "      <td>0</td>\n",
       "    </tr>\n",
       "    <tr>\n",
       "      <th>2</th>\n",
       "      <td>0</td>\n",
       "      <td>0</td>\n",
       "      <td>1</td>\n",
       "    </tr>\n",
       "    <tr>\n",
       "      <th>3</th>\n",
       "      <td>0</td>\n",
       "      <td>1</td>\n",
       "      <td>0</td>\n",
       "    </tr>\n",
       "    <tr>\n",
       "      <th>4</th>\n",
       "      <td>0</td>\n",
       "      <td>0</td>\n",
       "      <td>1</td>\n",
       "    </tr>\n",
       "  </tbody>\n",
       "</table>\n",
       "</div>"
      ],
      "text/plain": [
       "   1.0  2.0  3.0\n",
       "0    0    1    0\n",
       "1    0    1    0\n",
       "2    0    0    1\n",
       "3    0    1    0\n",
       "4    0    0    1"
      ]
     },
     "execution_count": 458,
     "metadata": {},
     "output_type": "execute_result"
    }
   ],
   "source": [
    "#Dummy code Floors, since it's a categorical predictor.\n",
    "dummy = pd.get_dummies(df['Floors'])\n",
    "dummy.head()"
   ]
  },
  {
   "cell_type": "code",
   "execution_count": 459,
   "metadata": {},
   "outputs": [
    {
     "data": {
      "text/html": [
       "<div>\n",
       "<style scoped>\n",
       "    .dataframe tbody tr th:only-of-type {\n",
       "        vertical-align: middle;\n",
       "    }\n",
       "\n",
       "    .dataframe tbody tr th {\n",
       "        vertical-align: top;\n",
       "    }\n",
       "\n",
       "    .dataframe thead th {\n",
       "        text-align: right;\n",
       "    }\n",
       "</style>\n",
       "<table border=\"1\" class=\"dataframe\">\n",
       "  <thead>\n",
       "    <tr style=\"text-align: right;\">\n",
       "      <th></th>\n",
       "      <th>Energy</th>\n",
       "      <th>YearBuilt</th>\n",
       "      <th>Size</th>\n",
       "      <th>RValue</th>\n",
       "      <th>EnergyUsePerSft</th>\n",
       "      <th>1.0</th>\n",
       "      <th>2.0</th>\n",
       "      <th>3.0</th>\n",
       "    </tr>\n",
       "  </thead>\n",
       "  <tbody>\n",
       "    <tr>\n",
       "      <th>0</th>\n",
       "      <td>470.0</td>\n",
       "      <td>1960.0</td>\n",
       "      <td>709.38</td>\n",
       "      <td>20.0</td>\n",
       "      <td>0.662550</td>\n",
       "      <td>0</td>\n",
       "      <td>1</td>\n",
       "      <td>0</td>\n",
       "    </tr>\n",
       "    <tr>\n",
       "      <th>1</th>\n",
       "      <td>162.0</td>\n",
       "      <td>1964.0</td>\n",
       "      <td>742.26</td>\n",
       "      <td>2.0</td>\n",
       "      <td>0.218252</td>\n",
       "      <td>0</td>\n",
       "      <td>1</td>\n",
       "      <td>0</td>\n",
       "    </tr>\n",
       "    <tr>\n",
       "      <th>2</th>\n",
       "      <td>454.0</td>\n",
       "      <td>1966.0</td>\n",
       "      <td>770.43</td>\n",
       "      <td>2.0</td>\n",
       "      <td>0.589281</td>\n",
       "      <td>0</td>\n",
       "      <td>0</td>\n",
       "      <td>1</td>\n",
       "    </tr>\n",
       "    <tr>\n",
       "      <th>3</th>\n",
       "      <td>525.0</td>\n",
       "      <td>1946.0</td>\n",
       "      <td>786.00</td>\n",
       "      <td>NaN</td>\n",
       "      <td>0.667939</td>\n",
       "      <td>0</td>\n",
       "      <td>1</td>\n",
       "      <td>0</td>\n",
       "    </tr>\n",
       "    <tr>\n",
       "      <th>4</th>\n",
       "      <td>516.0</td>\n",
       "      <td>1966.0</td>\n",
       "      <td>674.09</td>\n",
       "      <td>1.0</td>\n",
       "      <td>0.765476</td>\n",
       "      <td>0</td>\n",
       "      <td>0</td>\n",
       "      <td>1</td>\n",
       "    </tr>\n",
       "  </tbody>\n",
       "</table>\n",
       "</div>"
      ],
      "text/plain": [
       "   Energy  YearBuilt    Size  RValue  EnergyUsePerSft  1.0  2.0  3.0\n",
       "0   470.0     1960.0  709.38    20.0         0.662550    0    1    0\n",
       "1   162.0     1964.0  742.26     2.0         0.218252    0    1    0\n",
       "2   454.0     1966.0  770.43     2.0         0.589281    0    0    1\n",
       "3   525.0     1946.0  786.00     NaN         0.667939    0    1    0\n",
       "4   516.0     1966.0  674.09     1.0         0.765476    0    0    1"
      ]
     },
     "execution_count": 459,
     "metadata": {},
     "output_type": "execute_result"
    }
   ],
   "source": [
    "#Add floor dummyback into the df.\n",
    "df = pd.concat([df,dummy],axis=1)\n",
    "del df[\"Floors\"]\n",
    "df.head()"
   ]
  },
  {
   "cell_type": "code",
   "execution_count": 460,
   "metadata": {},
   "outputs": [
    {
     "data": {
      "text/plain": [
       "<matplotlib.axes._subplots.AxesSubplot at 0x188af91c0f0>"
      ]
     },
     "execution_count": 460,
     "metadata": {},
     "output_type": "execute_result"
    },
    {
     "data": {
      "image/png": "[encoded data removed]",
      "text/plain": [
       "<Figure size 1728x720 with 3 Axes>"
      ]
     },
     "metadata": {
      "needs_background": "light"
     },
     "output_type": "display_data"
    }
   ],
   "source": [
    "#Check for missing values.\n",
    "import missingno as msno\n",
    "msno.bar(df)"
   ]
  },
  {
   "cell_type": "code",
   "execution_count": 461,
   "metadata": {},
   "outputs": [
    {
     "data": {
      "text/plain": [
       "Energy              20\n",
       "YearBuilt           19\n",
       "Size                 9\n",
       "RValue             485\n",
       "EnergyUsePerSft     10\n",
       "1.0                  0\n",
       "2.0                  0\n",
       "3.0                  0\n",
       "dtype: int64"
      ]
     },
     "execution_count": 461,
     "metadata": {},
     "output_type": "execute_result"
    }
   ],
   "source": [
    "#Get the total count of each col's nulls.\n",
    "df.isnull().sum()"
   ]
  },
  {
   "cell_type": "code",
   "execution_count": 462,
   "metadata": {},
   "outputs": [
    {
     "data": {
      "text/html": [
       "<div>\n",
       "<style scoped>\n",
       "    .dataframe tbody tr th:only-of-type {\n",
       "        vertical-align: middle;\n",
       "    }\n",
       "\n",
       "    .dataframe tbody tr th {\n",
       "        vertical-align: top;\n",
       "    }\n",
       "\n",
       "    .dataframe thead th {\n",
       "        text-align: right;\n",
       "    }\n",
       "</style>\n",
       "<table border=\"1\" class=\"dataframe\">\n",
       "  <thead>\n",
       "    <tr style=\"text-align: right;\">\n",
       "      <th></th>\n",
       "      <th>Energy</th>\n",
       "      <th>YearBuilt</th>\n",
       "      <th>Size</th>\n",
       "      <th>RValue</th>\n",
       "      <th>EnergyUsePerSft</th>\n",
       "      <th>1.0</th>\n",
       "      <th>2.0</th>\n",
       "      <th>3.0</th>\n",
       "    </tr>\n",
       "  </thead>\n",
       "  <tbody>\n",
       "    <tr>\n",
       "      <th>1483</th>\n",
       "      <td>492.0</td>\n",
       "      <td>2017.0</td>\n",
       "      <td>1171.95</td>\n",
       "      <td>NaN</td>\n",
       "      <td>0.419813</td>\n",
       "      <td>1</td>\n",
       "      <td>0</td>\n",
       "      <td>0</td>\n",
       "    </tr>\n",
       "    <tr>\n",
       "      <th>1484</th>\n",
       "      <td>463.0</td>\n",
       "      <td>2017.0</td>\n",
       "      <td>851.00</td>\n",
       "      <td>NaN</td>\n",
       "      <td>0.544066</td>\n",
       "      <td>1</td>\n",
       "      <td>0</td>\n",
       "      <td>0</td>\n",
       "    </tr>\n",
       "    <tr>\n",
       "      <th>1485</th>\n",
       "      <td>606.0</td>\n",
       "      <td>2016.0</td>\n",
       "      <td>998.39</td>\n",
       "      <td>NaN</td>\n",
       "      <td>0.606977</td>\n",
       "      <td>1</td>\n",
       "      <td>0</td>\n",
       "      <td>0</td>\n",
       "    </tr>\n",
       "    <tr>\n",
       "      <th>1486</th>\n",
       "      <td>613.0</td>\n",
       "      <td>2015.0</td>\n",
       "      <td>750.32</td>\n",
       "      <td>NaN</td>\n",
       "      <td>0.816985</td>\n",
       "      <td>0</td>\n",
       "      <td>0</td>\n",
       "      <td>1</td>\n",
       "    </tr>\n",
       "    <tr>\n",
       "      <th>1489</th>\n",
       "      <td>595.0</td>\n",
       "      <td>1972.0</td>\n",
       "      <td>733.33</td>\n",
       "      <td>NaN</td>\n",
       "      <td>0.811367</td>\n",
       "      <td>1</td>\n",
       "      <td>0</td>\n",
       "      <td>0</td>\n",
       "    </tr>\n",
       "  </tbody>\n",
       "</table>\n",
       "</div>"
      ],
      "text/plain": [
       "      Energy  YearBuilt     Size  RValue  EnergyUsePerSft  1.0  2.0  3.0\n",
       "1483   492.0     2017.0  1171.95     NaN         0.419813    1    0    0\n",
       "1484   463.0     2017.0   851.00     NaN         0.544066    1    0    0\n",
       "1485   606.0     2016.0   998.39     NaN         0.606977    1    0    0\n",
       "1486   613.0     2015.0   750.32     NaN         0.816985    0    0    1\n",
       "1489   595.0     1972.0   733.33     NaN         0.811367    1    0    0"
      ]
     },
     "execution_count": 462,
     "metadata": {},
     "output_type": "execute_result"
    }
   ],
   "source": [
    "#See the rows specifically for RValue that are nulls.\n",
    "df[df.RValue.isnull()].tail()"
   ]
  },
  {
   "cell_type": "code",
   "execution_count": 463,
   "metadata": {},
   "outputs": [
    {
     "data": {
      "text/html": [
       "<div>\n",
       "<style scoped>\n",
       "    .dataframe tbody tr th:only-of-type {\n",
       "        vertical-align: middle;\n",
       "    }\n",
       "\n",
       "    .dataframe tbody tr th {\n",
       "        vertical-align: top;\n",
       "    }\n",
       "\n",
       "    .dataframe thead th {\n",
       "        text-align: right;\n",
       "    }\n",
       "</style>\n",
       "<table border=\"1\" class=\"dataframe\">\n",
       "  <thead>\n",
       "    <tr style=\"text-align: right;\">\n",
       "      <th></th>\n",
       "      <th>Energy</th>\n",
       "      <th>YearBuilt</th>\n",
       "      <th>Size</th>\n",
       "      <th>RValue</th>\n",
       "      <th>EnergyUsePerSft</th>\n",
       "      <th>1.0</th>\n",
       "      <th>2.0</th>\n",
       "      <th>3.0</th>\n",
       "    </tr>\n",
       "  </thead>\n",
       "  <tbody>\n",
       "    <tr>\n",
       "      <th>0</th>\n",
       "      <td>470.0</td>\n",
       "      <td>1960.0</td>\n",
       "      <td>709.38</td>\n",
       "      <td>20.0</td>\n",
       "      <td>0.662550</td>\n",
       "      <td>0</td>\n",
       "      <td>1</td>\n",
       "      <td>0</td>\n",
       "    </tr>\n",
       "    <tr>\n",
       "      <th>1</th>\n",
       "      <td>162.0</td>\n",
       "      <td>1964.0</td>\n",
       "      <td>742.26</td>\n",
       "      <td>2.0</td>\n",
       "      <td>0.218252</td>\n",
       "      <td>0</td>\n",
       "      <td>1</td>\n",
       "      <td>0</td>\n",
       "    </tr>\n",
       "    <tr>\n",
       "      <th>2</th>\n",
       "      <td>454.0</td>\n",
       "      <td>1966.0</td>\n",
       "      <td>770.43</td>\n",
       "      <td>2.0</td>\n",
       "      <td>0.589281</td>\n",
       "      <td>0</td>\n",
       "      <td>0</td>\n",
       "      <td>1</td>\n",
       "    </tr>\n",
       "    <tr>\n",
       "      <th>3</th>\n",
       "      <td>525.0</td>\n",
       "      <td>1946.0</td>\n",
       "      <td>786.00</td>\n",
       "      <td>NaN</td>\n",
       "      <td>0.667939</td>\n",
       "      <td>0</td>\n",
       "      <td>1</td>\n",
       "      <td>0</td>\n",
       "    </tr>\n",
       "    <tr>\n",
       "      <th>4</th>\n",
       "      <td>516.0</td>\n",
       "      <td>1966.0</td>\n",
       "      <td>674.09</td>\n",
       "      <td>1.0</td>\n",
       "      <td>0.765476</td>\n",
       "      <td>0</td>\n",
       "      <td>0</td>\n",
       "      <td>1</td>\n",
       "    </tr>\n",
       "  </tbody>\n",
       "</table>\n",
       "</div>"
      ],
      "text/plain": [
       "   Energy  YearBuilt    Size  RValue  EnergyUsePerSft  1.0  2.0  3.0\n",
       "0   470.0     1960.0  709.38    20.0         0.662550    0    1    0\n",
       "1   162.0     1964.0  742.26     2.0         0.218252    0    1    0\n",
       "2   454.0     1966.0  770.43     2.0         0.589281    0    0    1\n",
       "3   525.0     1946.0  786.00     NaN         0.667939    0    1    0\n",
       "4   516.0     1966.0  674.09     1.0         0.765476    0    0    1"
      ]
     },
     "execution_count": 463,
     "metadata": {},
     "output_type": "execute_result"
    }
   ],
   "source": [
    "df.head()"
   ]
  },
  {
   "cell_type": "code",
   "execution_count": 465,
   "metadata": {},
   "outputs": [
    {
     "data": {
      "text/html": [
       "<div>\n",
       "<style scoped>\n",
       "    .dataframe tbody tr th:only-of-type {\n",
       "        vertical-align: middle;\n",
       "    }\n",
       "\n",
       "    .dataframe tbody tr th {\n",
       "        vertical-align: top;\n",
       "    }\n",
       "\n",
       "    .dataframe thead th {\n",
       "        text-align: right;\n",
       "    }\n",
       "</style>\n",
       "<table border=\"1\" class=\"dataframe\">\n",
       "  <thead>\n",
       "    <tr style=\"text-align: right;\">\n",
       "      <th></th>\n",
       "      <th>Energy</th>\n",
       "      <th>YearBuilt</th>\n",
       "      <th>Size</th>\n",
       "      <th>RValue</th>\n",
       "      <th>EnergyUsePerSft</th>\n",
       "      <th>1stFlr</th>\n",
       "      <th>2ndFlr</th>\n",
       "      <th>3rdFlr</th>\n",
       "    </tr>\n",
       "  </thead>\n",
       "  <tbody>\n",
       "    <tr>\n",
       "      <th>0</th>\n",
       "      <td>470.0</td>\n",
       "      <td>1960.0</td>\n",
       "      <td>709.38</td>\n",
       "      <td>20.000000</td>\n",
       "      <td>0.662550</td>\n",
       "      <td>0.0</td>\n",
       "      <td>1.0</td>\n",
       "      <td>0.0</td>\n",
       "    </tr>\n",
       "    <tr>\n",
       "      <th>1</th>\n",
       "      <td>162.0</td>\n",
       "      <td>1964.0</td>\n",
       "      <td>742.26</td>\n",
       "      <td>2.000000</td>\n",
       "      <td>0.218252</td>\n",
       "      <td>0.0</td>\n",
       "      <td>1.0</td>\n",
       "      <td>0.0</td>\n",
       "    </tr>\n",
       "    <tr>\n",
       "      <th>2</th>\n",
       "      <td>454.0</td>\n",
       "      <td>1966.0</td>\n",
       "      <td>770.43</td>\n",
       "      <td>2.000000</td>\n",
       "      <td>0.589281</td>\n",
       "      <td>0.0</td>\n",
       "      <td>0.0</td>\n",
       "      <td>1.0</td>\n",
       "    </tr>\n",
       "    <tr>\n",
       "      <th>3</th>\n",
       "      <td>525.0</td>\n",
       "      <td>1946.0</td>\n",
       "      <td>786.00</td>\n",
       "      <td>4.871478</td>\n",
       "      <td>0.667939</td>\n",
       "      <td>0.0</td>\n",
       "      <td>1.0</td>\n",
       "      <td>0.0</td>\n",
       "    </tr>\n",
       "    <tr>\n",
       "      <th>4</th>\n",
       "      <td>516.0</td>\n",
       "      <td>1966.0</td>\n",
       "      <td>674.09</td>\n",
       "      <td>1.000000</td>\n",
       "      <td>0.765476</td>\n",
       "      <td>0.0</td>\n",
       "      <td>0.0</td>\n",
       "      <td>1.0</td>\n",
       "    </tr>\n",
       "  </tbody>\n",
       "</table>\n",
       "</div>"
      ],
      "text/plain": [
       "   Energy  YearBuilt    Size     RValue  EnergyUsePerSft  1stFlr  2ndFlr  \\\n",
       "0   470.0     1960.0  709.38  20.000000         0.662550     0.0     1.0   \n",
       "1   162.0     1964.0  742.26   2.000000         0.218252     0.0     1.0   \n",
       "2   454.0     1966.0  770.43   2.000000         0.589281     0.0     0.0   \n",
       "3   525.0     1946.0  786.00   4.871478         0.667939     0.0     1.0   \n",
       "4   516.0     1966.0  674.09   1.000000         0.765476     0.0     0.0   \n",
       "\n",
       "   3rdFlr  \n",
       "0     0.0  \n",
       "1     0.0  \n",
       "2     1.0  \n",
       "3     0.0  \n",
       "4     1.0  "
      ]
     },
     "execution_count": 465,
     "metadata": {},
     "output_type": "execute_result"
    }
   ],
   "source": [
    "#Impute as needed.\n",
    "from sklearn.experimental import enable_iterative_imputer\n",
    "from sklearn.impute import IterativeImputer #As opposed to SimpleImputer or KNN.\n",
    "imp = IterativeImputer(random_state = 0, max_iter=1, initial_strategy = \"most_frequent\")\n",
    "df = imp.fit_transform(df) #Replace original with imputed values.\n",
    "df = pd.DataFrame(df, columns = (\"Energy\",'YearBuilt','Size','RValue','EnergyUsePerSft','1stFlr','2ndFlr','3rdFlr')) #Convert from np.array.\n",
    "df.head()"
   ]
  },
  {
   "cell_type": "code",
   "execution_count": 466,
   "metadata": {},
   "outputs": [
    {
     "data": {
      "text/plain": [
       "1374"
      ]
     },
     "execution_count": 466,
     "metadata": {},
     "output_type": "execute_result"
    }
   ],
   "source": [
    "len(df)"
   ]
  },
  {
   "cell_type": "code",
   "execution_count": 467,
   "metadata": {},
   "outputs": [
    {
     "data": {
      "text/plain": [
       "<matplotlib.axes._subplots.AxesSubplot at 0x188af918eb8>"
      ]
     },
     "execution_count": 467,
     "metadata": {},
     "output_type": "execute_result"
    },
    {
     "data": {
      "image/png": "[encoded data removed]",
      "text/plain": [
       "<Figure size 1728x720 with 3 Axes>"
      ]
     },
     "metadata": {
      "needs_background": "light"
     },
     "output_type": "display_data"
    }
   ],
   "source": [
    "#Check missingness again.\n",
    "msno.bar(df)"
   ]
  },
  {
   "cell_type": "code",
   "execution_count": 468,
   "metadata": {},
   "outputs": [
    {
     "data": {
      "text/plain": [
       "<matplotlib.axes._subplots.AxesSubplot at 0x188b1c21898>"
      ]
     },
     "execution_count": 468,
     "metadata": {},
     "output_type": "execute_result"
    },
    {
     "data": {
      "image/png": "[encoded data removed]",
      "text/plain": [
       "<Figure size 432x288 with 2 Axes>"
      ]
     },
     "metadata": {
      "needs_background": "light"
     },
     "output_type": "display_data"
    }
   ],
   "source": [
    "#Correlation. \n",
    "corr = df.corr(method = 'spearman')\n",
    "sns.heatmap(corr,\n",
    "           annot = True)"
   ]
  },
  {
   "cell_type": "code",
   "execution_count": 469,
   "metadata": {},
   "outputs": [
    {
     "data": {
      "text/plain": [
       "Energy             39596.263489\n",
       "YearBuilt            301.273432\n",
       "Size               42425.932904\n",
       "RValue                85.406699\n",
       "EnergyUsePerSft        0.058966\n",
       "1stFlr                 0.183002\n",
       "2ndFlr                 0.248749\n",
       "3rdFlr                 0.172425\n",
       "dtype: float64"
      ]
     },
     "execution_count": 469,
     "metadata": {},
     "output_type": "execute_result"
    }
   ],
   "source": [
    "#Variance of columns.\n",
    "df.var(axis=0)"
   ]
  },
  {
   "cell_type": "markdown",
   "metadata": {},
   "source": [
    "## Modelling"
   ]
  },
  {
   "cell_type": "code",
   "execution_count": 471,
   "metadata": {},
   "outputs": [],
   "source": [
    "#Split the data.\n",
    "X = df[['YearBuilt', 'Size', 'RValue', '1stFlr','2ndFlr','3rdFlr']] #Predictor vars\n",
    "y = df['Energy'] #Outcome var\n",
    "from sklearn.model_selection import train_test_split\n",
    "X_train, X_test, y_train, y_test = train_test_split(X, \n",
    "                                                    y, \n",
    "                                                    test_size=0.3, #Percentage allocated to test data. 70% to train.\n",
    "                                                    random_state=101) #Replicability seed."
   ]
  },
  {
   "cell_type": "code",
   "execution_count": 472,
   "metadata": {},
   "outputs": [
    {
     "name": "stdout",
     "output_type": "stream",
     "text": [
      "-3536.9444584502844\n"
     ]
    }
   ],
   "source": [
    "#Train the model and interpret results.  \n",
    "from sklearn.linear_model import LinearRegression\n",
    "lm = LinearRegression()\n",
    "lm.fit(X_train, y_train)\n",
    "print(lm.intercept_) #Model intercept"
   ]
  },
  {
   "cell_type": "code",
   "execution_count": 473,
   "metadata": {},
   "outputs": [
    {
     "name": "stdout",
     "output_type": "stream",
     "text": [
      "[  1.91636575   0.45211068  -1.36612772 -18.5306363  -14.81937268\n",
      "  33.35000898]\n"
     ]
    }
   ],
   "source": [
    "#Model coefficients.\n",
    "print(lm.coef_)"
   ]
  },
  {
   "cell_type": "code",
   "execution_count": 474,
   "metadata": {},
   "outputs": [
    {
     "data": {
      "text/html": [
       "<div>\n",
       "<style scoped>\n",
       "    .dataframe tbody tr th:only-of-type {\n",
       "        vertical-align: middle;\n",
       "    }\n",
       "\n",
       "    .dataframe tbody tr th {\n",
       "        vertical-align: top;\n",
       "    }\n",
       "\n",
       "    .dataframe thead th {\n",
       "        text-align: right;\n",
       "    }\n",
       "</style>\n",
       "<table border=\"1\" class=\"dataframe\">\n",
       "  <thead>\n",
       "    <tr style=\"text-align: right;\">\n",
       "      <th></th>\n",
       "      <th>Coeff</th>\n",
       "    </tr>\n",
       "  </thead>\n",
       "  <tbody>\n",
       "    <tr>\n",
       "      <th>YearBuilt</th>\n",
       "      <td>1.916366</td>\n",
       "    </tr>\n",
       "    <tr>\n",
       "      <th>Size</th>\n",
       "      <td>0.452111</td>\n",
       "    </tr>\n",
       "    <tr>\n",
       "      <th>RValue</th>\n",
       "      <td>-1.366128</td>\n",
       "    </tr>\n",
       "    <tr>\n",
       "      <th>1stFlr</th>\n",
       "      <td>-18.530636</td>\n",
       "    </tr>\n",
       "    <tr>\n",
       "      <th>2ndFlr</th>\n",
       "      <td>-14.819373</td>\n",
       "    </tr>\n",
       "    <tr>\n",
       "      <th>3rdFlr</th>\n",
       "      <td>33.350009</td>\n",
       "    </tr>\n",
       "  </tbody>\n",
       "</table>\n",
       "</div>"
      ],
      "text/plain": [
       "               Coeff\n",
       "YearBuilt   1.916366\n",
       "Size        0.452111\n",
       "RValue     -1.366128\n",
       "1stFlr    -18.530636\n",
       "2ndFlr    -14.819373\n",
       "3rdFlr     33.350009"
      ]
     },
     "execution_count": 474,
     "metadata": {},
     "output_type": "execute_result"
    }
   ],
   "source": [
    "#Build a df with coefficients.\n",
    "cdf = pd.DataFrame(lm.coef_, X.columns,columns = ['Coeff'])\n",
    "cdf"
   ]
  },
  {
   "cell_type": "code",
   "execution_count": 44,
   "metadata": {},
   "outputs": [
    {
     "data": {
      "text/plain": [
       "30934.53746954045"
      ]
     },
     "execution_count": 44,
     "metadata": {},
     "output_type": "execute_result"
    }
   ],
   "source": [
    "#Evaluate the model.\n",
    "from sklearn import metrics\n",
    "#MAE\n",
    "metrics.mean_absolute_error(y_test, #Outcome variable actuals from test set.\n",
    "                           lm.predict(X_test)) #Outcome variable predictions based on model's evaluation of predictor vars."
   ]
  },
  {
   "cell_type": "code",
   "execution_count": null,
   "metadata": {},
   "outputs": [],
   "source": [
    "#MSE\n",
    "metrics.mean_squared_error(y_test,\n",
    "                          lm.predict(X_test))"
   ]
  },
  {
   "cell_type": "code",
   "execution_count": 45,
   "metadata": {},
   "outputs": [
    {
     "data": {
      "text/plain": [
       "175.88216927687824"
      ]
     },
     "execution_count": 45,
     "metadata": {},
     "output_type": "execute_result"
    }
   ],
   "source": [
    "#RMSE\n",
    "np.sqrt(metrics.mean_squared_error(y_test,\n",
    "                                   lm.predict(X_test)))"
   ]
  },
  {
   "cell_type": "code",
   "execution_count": 475,
   "metadata": {},
   "outputs": [
    {
     "data": {
      "text/plain": [
       "0.3374266337050893"
      ]
     },
     "execution_count": 475,
     "metadata": {},
     "output_type": "execute_result"
    }
   ],
   "source": [
    "#R Squared\n",
    "metrics.r2_score(y_test,\n",
    "                lm.predict(X_test))"
   ]
  },
  {
   "cell_type": "code",
   "execution_count": 41,
   "metadata": {},
   "outputs": [
    {
     "data": {
      "text/plain": [
       "<matplotlib.axes._subplots.AxesSubplot at 0x18895534208>"
      ]
     },
     "execution_count": 41,
     "metadata": {},
     "output_type": "execute_result"
    },
    {
     "data": {
      "image/png": "[encoded data removed]",
      "text/plain": [
       "<Figure size 432x288 with 1 Axes>"
      ]
     },
     "metadata": {
      "needs_background": "light"
     },
     "output_type": "display_data"
    }
   ],
   "source": [
    "#Residuals\n",
    "sns.distplot(y_test-lm.predict(X_test),bins=30)"
   ]
  },
  {
   "cell_type": "code",
   "execution_count": 39,
   "metadata": {},
   "outputs": [
    {
     "data": {
      "text/plain": [
       "<matplotlib.collections.PathCollection at 0x188954723c8>"
      ]
     },
     "execution_count": 39,
     "metadata": {},
     "output_type": "execute_result"
    },
    {
     "data": {
      "image/png": "[encoded data removed]",
      "text/plain": [
       "<Figure size 432x288 with 1 Axes>"
      ]
     },
     "metadata": {
      "needs_background": "light"
     },
     "output_type": "display_data"
    }
   ],
   "source": [
    "#Plot predictions against actuals from the test set.\n",
    "plt.scatter(y_test,lm.predict(X_test))"
   ]
  }
 ],
 "metadata": {
  "kernelspec": {
   "display_name": "Python 3",
   "language": "python",
   "name": "python3"
  },
  "language_info": {
   "codemirror_mode": {
    "name": "ipython",
    "version": 3
   },
   "file_extension": ".py",
   "mimetype": "text/x-python",
   "name": "python",
   "nbconvert_exporter": "python",
   "pygments_lexer": "ipython3",
   "version": "3.7.3"
  }
 },
 "nbformat": 4,
 "nbformat_minor": 2
}
