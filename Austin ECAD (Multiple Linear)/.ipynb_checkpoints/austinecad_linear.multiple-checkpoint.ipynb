{
 "cells": [
  {
   "cell_type": "code",
   "execution_count": 622,
   "metadata": {},
   "outputs": [],
   "source": [
    "import pandas as pd\n",
    "import numpy as np"
   ]
  },
  {
   "cell_type": "code",
   "execution_count": 623,
   "metadata": {},
   "outputs": [],
   "source": [
    "import matplotlib.pyplot as plt\n",
    "import seaborn as sns"
   ]
  },
  {
   "cell_type": "code",
   "execution_count": 624,
   "metadata": {},
   "outputs": [
    {
     "data": {
      "text/html": [
       "<div>\n",
       "<style scoped>\n",
       "    .dataframe tbody tr th:only-of-type {\n",
       "        vertical-align: middle;\n",
       "    }\n",
       "\n",
       "    .dataframe tbody tr th {\n",
       "        vertical-align: top;\n",
       "    }\n",
       "\n",
       "    .dataframe thead th {\n",
       "        text-align: right;\n",
       "    }\n",
       "</style>\n",
       "<table border=\"1\" class=\"dataframe\">\n",
       "  <thead>\n",
       "    <tr style=\"text-align: right;\">\n",
       "      <th></th>\n",
       "      <th>Property ID #</th>\n",
       "      <th>Property Name</th>\n",
       "      <th>Property Management Company Name</th>\n",
       "      <th>Full Street Address</th>\n",
       "      <th>ECAD Year Built</th>\n",
       "      <th>Current ECAD Status</th>\n",
       "      <th>ECAD Audit Date</th>\n",
       "      <th>ECAD Exemption or Rebate Date</th>\n",
       "      <th>ECAD Auditor Company</th>\n",
       "      <th>ECAD Number of Buildings</th>\n",
       "      <th>...</th>\n",
       "      <th>Yearly kWh</th>\n",
       "      <th>ECAD Number of Floors</th>\n",
       "      <th>ECAD R Value</th>\n",
       "      <th>ECAD Percent Duct Leakage</th>\n",
       "      <th>Heat Type</th>\n",
       "      <th>ECAD Rentable sqft</th>\n",
       "      <th>ECAD Recommended Duct Leakage</th>\n",
       "      <th>ECAD Screens</th>\n",
       "      <th>Window Type</th>\n",
       "      <th>Roof Type</th>\n",
       "    </tr>\n",
       "  </thead>\n",
       "  <tbody>\n",
       "    <tr>\n",
       "      <th>0</th>\n",
       "      <td>208476</td>\n",
       "      <td>Park Avenue Place</td>\n",
       "      <td>NaN</td>\n",
       "      <td>306 E 30Th St  Austin, TX 78705</td>\n",
       "      <td>1960</td>\n",
       "      <td>Audited &lt; 10 years</td>\n",
       "      <td>01/01/2012 12:00:00 AM</td>\n",
       "      <td>NaN</td>\n",
       "      <td>A+ Energy</td>\n",
       "      <td>1.0</td>\n",
       "      <td>...</td>\n",
       "      <td>90152.26</td>\n",
       "      <td>2.0</td>\n",
       "      <td>20.0</td>\n",
       "      <td>73.0</td>\n",
       "      <td>HP</td>\n",
       "      <td>11350.0</td>\n",
       "      <td>0.15</td>\n",
       "      <td>Complete</td>\n",
       "      <td>Pitched Roof</td>\n",
       "      <td>Shingle</td>\n",
       "    </tr>\n",
       "    <tr>\n",
       "      <th>1</th>\n",
       "      <td>208518</td>\n",
       "      <td>Palisades Apartments</td>\n",
       "      <td>Fairway Properties</td>\n",
       "      <td>307 E 31 St  Austin, TX 78705</td>\n",
       "      <td>1964</td>\n",
       "      <td>Audited &lt; 10 years</td>\n",
       "      <td>11/07/2017 12:00:00 AM</td>\n",
       "      <td>NaN</td>\n",
       "      <td>Austin Auditors</td>\n",
       "      <td>5.0</td>\n",
       "      <td>...</td>\n",
       "      <td>81446.99</td>\n",
       "      <td>2.0</td>\n",
       "      <td>2.0</td>\n",
       "      <td>73.0</td>\n",
       "      <td>G</td>\n",
       "      <td>31175.0</td>\n",
       "      <td>0.15</td>\n",
       "      <td>Complete</td>\n",
       "      <td>Flat Roof</td>\n",
       "      <td>Shingle</td>\n",
       "    </tr>\n",
       "    <tr>\n",
       "      <th>2</th>\n",
       "      <td>208520</td>\n",
       "      <td>Palisades Apartments</td>\n",
       "      <td>Fairway Properties</td>\n",
       "      <td>311 E 31 St  Austin, TX 78705</td>\n",
       "      <td>1966</td>\n",
       "      <td>Audited &lt; 10 years</td>\n",
       "      <td>11/07/2017 12:00:00 AM</td>\n",
       "      <td>NaN</td>\n",
       "      <td>Austin Auditors</td>\n",
       "      <td>NaN</td>\n",
       "      <td>...</td>\n",
       "      <td>125275.26</td>\n",
       "      <td>3.0</td>\n",
       "      <td>2.0</td>\n",
       "      <td>80.0</td>\n",
       "      <td>NaN</td>\n",
       "      <td>17720.0</td>\n",
       "      <td>0.15</td>\n",
       "      <td>Complete</td>\n",
       "      <td>Flat Roof</td>\n",
       "      <td>Shingle</td>\n",
       "    </tr>\n",
       "    <tr>\n",
       "      <th>3</th>\n",
       "      <td>208607</td>\n",
       "      <td>3110 Duval St</td>\n",
       "      <td>NaN</td>\n",
       "      <td>3110 Duval St  Austin, TX 78705</td>\n",
       "      <td>1946</td>\n",
       "      <td>No Recent Audit on file</td>\n",
       "      <td>NaN</td>\n",
       "      <td>NaN</td>\n",
       "      <td>NaN</td>\n",
       "      <td>NaN</td>\n",
       "      <td>...</td>\n",
       "      <td>37764.06</td>\n",
       "      <td>2.0</td>\n",
       "      <td>NaN</td>\n",
       "      <td>NaN</td>\n",
       "      <td>ER</td>\n",
       "      <td>NaN</td>\n",
       "      <td>NaN</td>\n",
       "      <td>NaN</td>\n",
       "      <td>NaN</td>\n",
       "      <td>NaN</td>\n",
       "    </tr>\n",
       "    <tr>\n",
       "      <th>4</th>\n",
       "      <td>208608</td>\n",
       "      <td>Chateau Duval Apartments</td>\n",
       "      <td>Fairway Properties</td>\n",
       "      <td>3106 Duval Street  Austin, TX 78705</td>\n",
       "      <td>1966</td>\n",
       "      <td>Audited &lt; 10 years</td>\n",
       "      <td>05/23/2011 12:00:00 AM</td>\n",
       "      <td>NaN</td>\n",
       "      <td>1st Choice Energy</td>\n",
       "      <td>1.0</td>\n",
       "      <td>...</td>\n",
       "      <td>136176.77</td>\n",
       "      <td>3.0</td>\n",
       "      <td>1.0</td>\n",
       "      <td>75.0</td>\n",
       "      <td>CB</td>\n",
       "      <td>14830.0</td>\n",
       "      <td>0.15</td>\n",
       "      <td>Complete</td>\n",
       "      <td>Flat</td>\n",
       "      <td>Single-Ply</td>\n",
       "    </tr>\n",
       "  </tbody>\n",
       "</table>\n",
       "<p>5 rows × 30 columns</p>\n",
       "</div>"
      ],
      "text/plain": [
       "  Property ID #             Property Name Property Management Company Name  \\\n",
       "0        208476         Park Avenue Place                              NaN   \n",
       "1        208518      Palisades Apartments               Fairway Properties   \n",
       "2        208520      Palisades Apartments               Fairway Properties   \n",
       "3        208607             3110 Duval St                              NaN   \n",
       "4        208608  Chateau Duval Apartments               Fairway Properties   \n",
       "\n",
       "                   Full Street Address ECAD Year Built  \\\n",
       "0      306 E 30Th St  Austin, TX 78705            1960   \n",
       "1        307 E 31 St  Austin, TX 78705            1964   \n",
       "2        311 E 31 St  Austin, TX 78705            1966   \n",
       "3      3110 Duval St  Austin, TX 78705            1946   \n",
       "4  3106 Duval Street  Austin, TX 78705            1966   \n",
       "\n",
       "       Current ECAD Status         ECAD Audit Date  \\\n",
       "0       Audited < 10 years  01/01/2012 12:00:00 AM   \n",
       "1       Audited < 10 years  11/07/2017 12:00:00 AM   \n",
       "2       Audited < 10 years  11/07/2017 12:00:00 AM   \n",
       "3  No Recent Audit on file                     NaN   \n",
       "4       Audited < 10 years  05/23/2011 12:00:00 AM   \n",
       "\n",
       "  ECAD Exemption or Rebate Date ECAD Auditor Company  \\\n",
       "0                           NaN            A+ Energy   \n",
       "1                           NaN      Austin Auditors   \n",
       "2                           NaN      Austin Auditors   \n",
       "3                           NaN                  NaN   \n",
       "4                           NaN    1st Choice Energy   \n",
       "\n",
       "   ECAD Number of Buildings  ...  Yearly kWh ECAD Number of Floors  \\\n",
       "0                       1.0  ...    90152.26                   2.0   \n",
       "1                       5.0  ...    81446.99                   2.0   \n",
       "2                       NaN  ...   125275.26                   3.0   \n",
       "3                       NaN  ...    37764.06                   2.0   \n",
       "4                       1.0  ...   136176.77                   3.0   \n",
       "\n",
       "   ECAD R Value  ECAD Percent Duct Leakage  Heat Type  ECAD Rentable sqft  \\\n",
       "0          20.0                       73.0         HP             11350.0   \n",
       "1           2.0                       73.0          G             31175.0   \n",
       "2           2.0                       80.0        NaN             17720.0   \n",
       "3           NaN                        NaN         ER                 NaN   \n",
       "4           1.0                       75.0         CB             14830.0   \n",
       "\n",
       "   ECAD Recommended Duct Leakage  ECAD Screens   Window Type   Roof Type  \n",
       "0                           0.15      Complete  Pitched Roof     Shingle  \n",
       "1                           0.15      Complete     Flat Roof     Shingle  \n",
       "2                           0.15      Complete     Flat Roof     Shingle  \n",
       "3                            NaN           NaN           NaN         NaN  \n",
       "4                           0.15      Complete          Flat  Single-Ply  \n",
       "\n",
       "[5 rows x 30 columns]"
      ]
     },
     "execution_count": 624,
     "metadata": {},
     "output_type": "execute_result"
    }
   ],
   "source": [
    "url = (\"https://raw.githubusercontent.com/nicholasbroussard/tutorials/master/Austin%20ECAD%20(Multiple%20Linear)/austinecad_linear.multiple.csv\")\n",
    "df = pd.read_csv (url)\n",
    "df.head()"
   ]
  },
  {
   "cell_type": "code",
   "execution_count": 625,
   "metadata": {},
   "outputs": [
    {
     "data": {
      "text/plain": [
       "Property ID #                        object\n",
       "Property Name                        object\n",
       "Property Management Company Name     object\n",
       "Full Street Address                  object\n",
       "ECAD Year Built                      object\n",
       "Current ECAD Status                  object\n",
       "ECAD Audit Date                      object\n",
       "ECAD Exemption or Rebate Date        object\n",
       "ECAD Auditor Company                 object\n",
       "ECAD Number of Buildings            float64\n",
       "ECAD Total Apts                     float64\n",
       "ECAD Utilities                       object\n",
       "Average_Monthly_Cost                float64\n",
       "Average Monthly kWh                 float64\n",
       "Average Apt Size                    float64\n",
       "ECAD Total sqft                     float64\n",
       "Yearly EUI                          float64\n",
       "Zip Code                            float64\n",
       "Apt Meters                          float64\n",
       "Apartment Count                     float64\n",
       "Yearly kWh                          float64\n",
       "ECAD Number of Floors               float64\n",
       "ECAD R Value                        float64\n",
       "ECAD Percent Duct Leakage           float64\n",
       "Heat Type                            object\n",
       "ECAD Rentable sqft                  float64\n",
       "ECAD Recommended Duct Leakage       float64\n",
       "ECAD Screens                         object\n",
       "Window Type                          object\n",
       "Roof Type                            object\n",
       "dtype: object"
      ]
     },
     "execution_count": 625,
     "metadata": {},
     "output_type": "execute_result"
    }
   ],
   "source": [
    "#Check the variable types. \n",
    "df.dtypes"
   ]
  },
  {
   "cell_type": "code",
   "execution_count": 626,
   "metadata": {},
   "outputs": [
    {
     "name": "stdout",
     "output_type": "stream",
     "text": [
      "Property ID #\n",
      "Property Name\n",
      "Property Management Company Name\n",
      "Full Street Address\n",
      "ECAD Year Built\n",
      "Current ECAD Status\n",
      "ECAD Audit Date\n",
      "ECAD Exemption or Rebate Date\n",
      "ECAD Auditor Company\n",
      "ECAD Number of Buildings\n",
      "ECAD Total Apts\n",
      "ECAD Utilities\n",
      "Average_Monthly_Cost\n",
      "Average Monthly kWh\n",
      "Average Apt Size\n",
      "ECAD Total sqft\n",
      "Yearly EUI\n",
      "Zip Code\n",
      "Apt Meters\n",
      "Apartment Count\n",
      "Yearly kWh\n",
      "ECAD Number of Floors\n",
      "ECAD R Value\n",
      "ECAD Percent Duct Leakage\n",
      "Heat Type\n",
      "ECAD Rentable sqft\n",
      "ECAD Recommended Duct Leakage\n",
      "ECAD Screens\n",
      "Window Type\n",
      "Roof Type\n"
     ]
    }
   ],
   "source": [
    "#Get column names.\n",
    "for col in df:\n",
    "    print(col)"
   ]
  },
  {
   "cell_type": "code",
   "execution_count": 627,
   "metadata": {},
   "outputs": [],
   "source": [
    "#Select variables and rename.\n",
    "df = df[[\"Average Monthly kWh\",\"ECAD Year Built\",\"Average Apt Size\", \"ECAD R Value\", \"ECAD Number of Floors\"]]\n",
    "df.rename(columns = {\"Average Monthly kWh\":\"Energy\", \n",
    "                     \"ECAD Year Built\":\"YearBuilt\",\n",
    "                     \"Average Apt Size\":\"Size\",\n",
    "                     \"ECAD R Value\":\"RValue\",\n",
    "                     \"ECAD Number of Floors\":\"Floors\"}, \n",
    "          inplace=True)"
   ]
  },
  {
   "cell_type": "code",
   "execution_count": 628,
   "metadata": {},
   "outputs": [
    {
     "name": "stdout",
     "output_type": "stream",
     "text": [
      "<class 'pandas.core.frame.DataFrame'>\n",
      "RangeIndex: 1495 entries, 0 to 1494\n",
      "Data columns (total 5 columns):\n",
      "Energy       1490 non-null float64\n",
      "YearBuilt    1490 non-null object\n",
      "Size         1490 non-null float64\n",
      "RValue       905 non-null float64\n",
      "Floors       1477 non-null float64\n",
      "dtypes: float64(4), object(1)\n",
      "memory usage: 58.5+ KB\n"
     ]
    }
   ],
   "source": [
    "#View structure.\n",
    "df.info()"
   ]
  },
  {
   "cell_type": "code",
   "execution_count": 629,
   "metadata": {},
   "outputs": [],
   "source": [
    "#Recode variable types.\n",
    "df['YearBuilt'] = pd.to_numeric(df['YearBuilt'],errors='coerce')\n",
    "df.replace('2009 /2006', np.NaN, inplace=True) #There's a value \"2009/2006\" that needs to be recoded as NA.\n",
    "df['YearBuilt'] = pd.to_numeric(df['YearBuilt'],errors='coerce')\n",
    "df['Floors'] = df['Floors'].astype(str)"
   ]
  },
  {
   "cell_type": "code",
   "execution_count": 630,
   "metadata": {},
   "outputs": [
    {
     "data": {
      "text/html": [
       "<div>\n",
       "<style scoped>\n",
       "    .dataframe tbody tr th:only-of-type {\n",
       "        vertical-align: middle;\n",
       "    }\n",
       "\n",
       "    .dataframe tbody tr th {\n",
       "        vertical-align: top;\n",
       "    }\n",
       "\n",
       "    .dataframe thead th {\n",
       "        text-align: right;\n",
       "    }\n",
       "</style>\n",
       "<table border=\"1\" class=\"dataframe\">\n",
       "  <thead>\n",
       "    <tr style=\"text-align: right;\">\n",
       "      <th></th>\n",
       "      <th>Energy</th>\n",
       "      <th>YearBuilt</th>\n",
       "      <th>Size</th>\n",
       "      <th>RValue</th>\n",
       "    </tr>\n",
       "  </thead>\n",
       "  <tbody>\n",
       "    <tr>\n",
       "      <th>count</th>\n",
       "      <td>1490.000000</td>\n",
       "      <td>1489.000000</td>\n",
       "      <td>1490.000000</td>\n",
       "      <td>905.000000</td>\n",
       "    </tr>\n",
       "    <tr>\n",
       "      <th>mean</th>\n",
       "      <td>577.337584</td>\n",
       "      <td>1980.127602</td>\n",
       "      <td>743.752242</td>\n",
       "      <td>12.852906</td>\n",
       "    </tr>\n",
       "    <tr>\n",
       "      <th>std</th>\n",
       "      <td>212.120085</td>\n",
       "      <td>55.100579</td>\n",
       "      <td>229.364843</td>\n",
       "      <td>9.995810</td>\n",
       "    </tr>\n",
       "    <tr>\n",
       "      <th>min</th>\n",
       "      <td>0.000000</td>\n",
       "      <td>0.000000</td>\n",
       "      <td>168.890000</td>\n",
       "      <td>1.000000</td>\n",
       "    </tr>\n",
       "    <tr>\n",
       "      <th>25%</th>\n",
       "      <td>427.000000</td>\n",
       "      <td>1969.000000</td>\n",
       "      <td>583.005000</td>\n",
       "      <td>1.000000</td>\n",
       "    </tr>\n",
       "    <tr>\n",
       "      <th>50%</th>\n",
       "      <td>560.000000</td>\n",
       "      <td>1978.000000</td>\n",
       "      <td>735.195000</td>\n",
       "      <td>12.000000</td>\n",
       "    </tr>\n",
       "    <tr>\n",
       "      <th>75%</th>\n",
       "      <td>706.000000</td>\n",
       "      <td>1997.000000</td>\n",
       "      <td>883.725000</td>\n",
       "      <td>19.000000</td>\n",
       "    </tr>\n",
       "    <tr>\n",
       "      <th>max</th>\n",
       "      <td>1513.000000</td>\n",
       "      <td>2019.000000</td>\n",
       "      <td>2123.880000</td>\n",
       "      <td>42.000000</td>\n",
       "    </tr>\n",
       "  </tbody>\n",
       "</table>\n",
       "</div>"
      ],
      "text/plain": [
       "            Energy    YearBuilt         Size      RValue\n",
       "count  1490.000000  1489.000000  1490.000000  905.000000\n",
       "mean    577.337584  1980.127602   743.752242   12.852906\n",
       "std     212.120085    55.100579   229.364843    9.995810\n",
       "min       0.000000     0.000000   168.890000    1.000000\n",
       "25%     427.000000  1969.000000   583.005000    1.000000\n",
       "50%     560.000000  1978.000000   735.195000   12.000000\n",
       "75%     706.000000  1997.000000   883.725000   19.000000\n",
       "max    1513.000000  2019.000000  2123.880000   42.000000"
      ]
     },
     "execution_count": 630,
     "metadata": {},
     "output_type": "execute_result"
    }
   ],
   "source": [
    "#Inspect numerics. \n",
    "df.describe()"
   ]
  },
  {
   "cell_type": "code",
   "execution_count": 631,
   "metadata": {},
   "outputs": [
    {
     "data": {
      "text/plain": [
       "<matplotlib.axes._subplots.AxesSubplot at 0x1e4e27a1828>"
      ]
     },
     "execution_count": 631,
     "metadata": {},
     "output_type": "execute_result"
    },
    {
     "data": {
      "image/png": "[encoded data removed]",
      "text/plain": [
       "<Figure size 432x288 with 1 Axes>"
      ]
     },
     "metadata": {
      "needs_background": "light"
     },
     "output_type": "display_data"
    }
   ],
   "source": [
    "df.Energy.plot(kind=\"hist\", bins=30)"
   ]
  },
  {
   "cell_type": "code",
   "execution_count": 632,
   "metadata": {},
   "outputs": [
    {
     "data": {
      "text/plain": [
       "<matplotlib.axes._subplots.AxesSubplot at 0x1e4e3aa0c88>"
      ]
     },
     "execution_count": 632,
     "metadata": {},
     "output_type": "execute_result"
    },
    {
     "data": {
      "image/png": "[encoded data removed]",
      "text/plain": [
       "<Figure size 432x288 with 1 Axes>"
      ]
     },
     "metadata": {
      "needs_background": "light"
     },
     "output_type": "display_data"
    }
   ],
   "source": [
    "df.Size.plot(kind=\"hist\",bins=30)"
   ]
  },
  {
   "cell_type": "code",
   "execution_count": 633,
   "metadata": {},
   "outputs": [
    {
     "data": {
      "text/plain": [
       "1972.0    113\n",
       "1984.0     77\n",
       "1973.0     72\n",
       "1971.0     65\n",
       "1967.0     60\n",
       "Name: YearBuilt, dtype: int64"
      ]
     },
     "execution_count": 633,
     "metadata": {},
     "output_type": "execute_result"
    }
   ],
   "source": [
    "df.YearBuilt.value_counts(sort=True).head()"
   ]
  },
  {
   "cell_type": "code",
   "execution_count": 634,
   "metadata": {},
   "outputs": [
    {
     "data": {
      "text/plain": [
       "<matplotlib.axes._subplots.AxesSubplot at 0x1e4e38c49b0>"
      ]
     },
     "execution_count": 634,
     "metadata": {},
     "output_type": "execute_result"
    },
    {
     "data": {
      "image/png": "[encoded data removed]",
      "text/plain": [
       "<Figure size 432x288 with 1 Axes>"
      ]
     },
     "metadata": {
      "needs_background": "light"
     },
     "output_type": "display_data"
    }
   ],
   "source": [
    "df.RValue.plot(kind='hist', bins = 40)"
   ]
  },
  {
   "cell_type": "code",
   "execution_count": 635,
   "metadata": {},
   "outputs": [
    {
     "data": {
      "text/plain": [
       "<matplotlib.axes._subplots.AxesSubplot at 0x1e4e3c5fcc0>"
      ]
     },
     "execution_count": 635,
     "metadata": {},
     "output_type": "execute_result"
    },
    {
     "data": {
      "image/png": "[encoded data removed]",
      "text/plain": [
       "<Figure size 432x288 with 1 Axes>"
      ]
     },
     "metadata": {
      "needs_background": "light"
     },
     "output_type": "display_data"
    }
   ],
   "source": [
    "#Inspect categoricals. \n",
    "df.Floors.value_counts().plot(kind=\"bar\")"
   ]
  },
  {
   "cell_type": "code",
   "execution_count": 636,
   "metadata": {},
   "outputs": [
    {
     "data": {
      "text/plain": [
       "1374"
      ]
     },
     "execution_count": 636,
     "metadata": {},
     "output_type": "execute_result"
    }
   ],
   "source": [
    "#Filter for Floor == 1, 2, or 3. Keep NAs.\n",
    "df = df[(df.Floors=='1.0') | (df.Floors=='2.0') | (df.Floors=='3.0') | (df.Floors.isnull())]\n",
    "len(df)"
   ]
  },
  {
   "cell_type": "code",
   "execution_count": 637,
   "metadata": {},
   "outputs": [
    {
     "data": {
      "text/plain": [
       "Energy         0\n",
       "YearBuilt      1\n",
       "Size           0\n",
       "RValue       485\n",
       "Floors         0\n",
       "dtype: int64"
      ]
     },
     "execution_count": 637,
     "metadata": {},
     "output_type": "execute_result"
    }
   ],
   "source": [
    "df.isnull().sum()"
   ]
  },
  {
   "cell_type": "code",
   "execution_count": 638,
   "metadata": {},
   "outputs": [
    {
     "data": {
      "text/html": [
       "<div>\n",
       "<style scoped>\n",
       "    .dataframe tbody tr th:only-of-type {\n",
       "        vertical-align: middle;\n",
       "    }\n",
       "\n",
       "    .dataframe tbody tr th {\n",
       "        vertical-align: top;\n",
       "    }\n",
       "\n",
       "    .dataframe thead th {\n",
       "        text-align: right;\n",
       "    }\n",
       "</style>\n",
       "<table border=\"1\" class=\"dataframe\">\n",
       "  <thead>\n",
       "    <tr style=\"text-align: right;\">\n",
       "      <th></th>\n",
       "      <th>Energy</th>\n",
       "      <th>YearBuilt</th>\n",
       "      <th>Size</th>\n",
       "      <th>RValue</th>\n",
       "      <th>Floors</th>\n",
       "    </tr>\n",
       "  </thead>\n",
       "  <tbody>\n",
       "    <tr>\n",
       "      <th>1483</th>\n",
       "      <td>492.0</td>\n",
       "      <td>2017.0</td>\n",
       "      <td>1171.95</td>\n",
       "      <td>NaN</td>\n",
       "      <td>1.0</td>\n",
       "    </tr>\n",
       "    <tr>\n",
       "      <th>1484</th>\n",
       "      <td>463.0</td>\n",
       "      <td>2017.0</td>\n",
       "      <td>851.00</td>\n",
       "      <td>NaN</td>\n",
       "      <td>1.0</td>\n",
       "    </tr>\n",
       "    <tr>\n",
       "      <th>1485</th>\n",
       "      <td>606.0</td>\n",
       "      <td>2016.0</td>\n",
       "      <td>998.39</td>\n",
       "      <td>NaN</td>\n",
       "      <td>1.0</td>\n",
       "    </tr>\n",
       "    <tr>\n",
       "      <th>1486</th>\n",
       "      <td>613.0</td>\n",
       "      <td>2015.0</td>\n",
       "      <td>750.32</td>\n",
       "      <td>NaN</td>\n",
       "      <td>3.0</td>\n",
       "    </tr>\n",
       "    <tr>\n",
       "      <th>1489</th>\n",
       "      <td>595.0</td>\n",
       "      <td>1972.0</td>\n",
       "      <td>733.33</td>\n",
       "      <td>NaN</td>\n",
       "      <td>1.0</td>\n",
       "    </tr>\n",
       "  </tbody>\n",
       "</table>\n",
       "</div>"
      ],
      "text/plain": [
       "      Energy  YearBuilt     Size  RValue Floors\n",
       "1483   492.0     2017.0  1171.95     NaN    1.0\n",
       "1484   463.0     2017.0   851.00     NaN    1.0\n",
       "1485   606.0     2016.0   998.39     NaN    1.0\n",
       "1486   613.0     2015.0   750.32     NaN    3.0\n",
       "1489   595.0     1972.0   733.33     NaN    1.0"
      ]
     },
     "execution_count": 638,
     "metadata": {},
     "output_type": "execute_result"
    }
   ],
   "source": [
    "#Subset for RValue nulls.\n",
    "df[df.RValue.isnull()].tail()"
   ]
  },
  {
   "cell_type": "code",
   "execution_count": 639,
   "metadata": {},
   "outputs": [
    {
     "data": {
      "text/plain": [
       "<matplotlib.axes._subplots.AxesSubplot at 0x1e4e3b1bf28>"
      ]
     },
     "execution_count": 639,
     "metadata": {},
     "output_type": "execute_result"
    },
    {
     "data": {
      "image/png": "[encoded data removed]",
      "text/plain": [
       "<Figure size 1728x720 with 3 Axes>"
      ]
     },
     "metadata": {
      "needs_background": "light"
     },
     "output_type": "display_data"
    }
   ],
   "source": [
    "#Check for missing values.\n",
    "import missingno as msno\n",
    "msno.bar(df)"
   ]
  },
  {
   "cell_type": "code",
   "execution_count": 640,
   "metadata": {},
   "outputs": [
    {
     "data": {
      "text/plain": [
       "count    889.000000\n",
       "mean      12.775906\n",
       "std        9.991268\n",
       "min        1.000000\n",
       "25%        1.000000\n",
       "50%       12.000000\n",
       "75%       19.000000\n",
       "max       42.000000\n",
       "Name: RValue, dtype: float64"
      ]
     },
     "execution_count": 640,
     "metadata": {},
     "output_type": "execute_result"
    }
   ],
   "source": [
    "df['RValue'].describe()"
   ]
  },
  {
   "cell_type": "code",
   "execution_count": 641,
   "metadata": {},
   "outputs": [
    {
     "data": {
      "text/html": [
       "<div>\n",
       "<style scoped>\n",
       "    .dataframe tbody tr th:only-of-type {\n",
       "        vertical-align: middle;\n",
       "    }\n",
       "\n",
       "    .dataframe tbody tr th {\n",
       "        vertical-align: top;\n",
       "    }\n",
       "\n",
       "    .dataframe thead th {\n",
       "        text-align: right;\n",
       "    }\n",
       "</style>\n",
       "<table border=\"1\" class=\"dataframe\">\n",
       "  <thead>\n",
       "    <tr style=\"text-align: right;\">\n",
       "      <th></th>\n",
       "      <th>Energy</th>\n",
       "      <th>YearBuilt</th>\n",
       "      <th>Size</th>\n",
       "      <th>RValue</th>\n",
       "      <th>Floors</th>\n",
       "    </tr>\n",
       "  </thead>\n",
       "  <tbody>\n",
       "    <tr>\n",
       "      <th>0</th>\n",
       "      <td>470.0</td>\n",
       "      <td>1960.0</td>\n",
       "      <td>709.38</td>\n",
       "      <td>20.0</td>\n",
       "      <td>2.0</td>\n",
       "    </tr>\n",
       "    <tr>\n",
       "      <th>1</th>\n",
       "      <td>162.0</td>\n",
       "      <td>1964.0</td>\n",
       "      <td>742.26</td>\n",
       "      <td>2.0</td>\n",
       "      <td>2.0</td>\n",
       "    </tr>\n",
       "    <tr>\n",
       "      <th>2</th>\n",
       "      <td>454.0</td>\n",
       "      <td>1966.0</td>\n",
       "      <td>770.43</td>\n",
       "      <td>2.0</td>\n",
       "      <td>3.0</td>\n",
       "    </tr>\n",
       "    <tr>\n",
       "      <th>3</th>\n",
       "      <td>525.0</td>\n",
       "      <td>1946.0</td>\n",
       "      <td>786.00</td>\n",
       "      <td>NaN</td>\n",
       "      <td>2.0</td>\n",
       "    </tr>\n",
       "    <tr>\n",
       "      <th>4</th>\n",
       "      <td>516.0</td>\n",
       "      <td>1966.0</td>\n",
       "      <td>674.09</td>\n",
       "      <td>1.0</td>\n",
       "      <td>3.0</td>\n",
       "    </tr>\n",
       "  </tbody>\n",
       "</table>\n",
       "</div>"
      ],
      "text/plain": [
       "   Energy  YearBuilt    Size  RValue Floors\n",
       "0   470.0     1960.0  709.38    20.0    2.0\n",
       "1   162.0     1964.0  742.26     2.0    2.0\n",
       "2   454.0     1966.0  770.43     2.0    3.0\n",
       "3   525.0     1946.0  786.00     NaN    2.0\n",
       "4   516.0     1966.0  674.09     1.0    3.0"
      ]
     },
     "execution_count": 641,
     "metadata": {},
     "output_type": "execute_result"
    }
   ],
   "source": [
    "df.head()"
   ]
  },
  {
   "cell_type": "code",
   "execution_count": 642,
   "metadata": {},
   "outputs": [
    {
     "name": "stderr",
     "output_type": "stream",
     "text": [
      "C:\\Users\\Nbroussard\\AppData\\Local\\Continuum\\anaconda3\\lib\\site-packages\\sklearn\\impute\\_iterative.py:599: ConvergenceWarning: [IterativeImputer] Early stopping criterion not reached.\n",
      "  \" reached.\", ConvergenceWarning)\n"
     ]
    },
    {
     "data": {
      "text/html": [
       "<div>\n",
       "<style scoped>\n",
       "    .dataframe tbody tr th:only-of-type {\n",
       "        vertical-align: middle;\n",
       "    }\n",
       "\n",
       "    .dataframe tbody tr th {\n",
       "        vertical-align: top;\n",
       "    }\n",
       "\n",
       "    .dataframe thead th {\n",
       "        text-align: right;\n",
       "    }\n",
       "</style>\n",
       "<table border=\"1\" class=\"dataframe\">\n",
       "  <thead>\n",
       "    <tr style=\"text-align: right;\">\n",
       "      <th></th>\n",
       "      <th>Energy</th>\n",
       "      <th>YearBuilt</th>\n",
       "      <th>Size</th>\n",
       "      <th>RValue</th>\n",
       "      <th>Floors</th>\n",
       "    </tr>\n",
       "  </thead>\n",
       "  <tbody>\n",
       "    <tr>\n",
       "      <th>0</th>\n",
       "      <td>470.0</td>\n",
       "      <td>1960.0</td>\n",
       "      <td>709.38</td>\n",
       "      <td>20.000000</td>\n",
       "      <td>2.0</td>\n",
       "    </tr>\n",
       "    <tr>\n",
       "      <th>1</th>\n",
       "      <td>162.0</td>\n",
       "      <td>1964.0</td>\n",
       "      <td>742.26</td>\n",
       "      <td>2.000000</td>\n",
       "      <td>2.0</td>\n",
       "    </tr>\n",
       "    <tr>\n",
       "      <th>2</th>\n",
       "      <td>454.0</td>\n",
       "      <td>1966.0</td>\n",
       "      <td>770.43</td>\n",
       "      <td>2.000000</td>\n",
       "      <td>3.0</td>\n",
       "    </tr>\n",
       "    <tr>\n",
       "      <th>3</th>\n",
       "      <td>525.0</td>\n",
       "      <td>1946.0</td>\n",
       "      <td>786.00</td>\n",
       "      <td>7.445504</td>\n",
       "      <td>2.0</td>\n",
       "    </tr>\n",
       "    <tr>\n",
       "      <th>4</th>\n",
       "      <td>516.0</td>\n",
       "      <td>1966.0</td>\n",
       "      <td>674.09</td>\n",
       "      <td>1.000000</td>\n",
       "      <td>3.0</td>\n",
       "    </tr>\n",
       "  </tbody>\n",
       "</table>\n",
       "</div>"
      ],
      "text/plain": [
       "   Energy  YearBuilt    Size     RValue Floors\n",
       "0   470.0     1960.0  709.38  20.000000    2.0\n",
       "1   162.0     1964.0  742.26   2.000000    2.0\n",
       "2   454.0     1966.0  770.43   2.000000    3.0\n",
       "3   525.0     1946.0  786.00   7.445504    2.0\n",
       "4   516.0     1966.0  674.09   1.000000    3.0"
      ]
     },
     "execution_count": 642,
     "metadata": {},
     "output_type": "execute_result"
    }
   ],
   "source": [
    "#Impute as needed.\n",
    "from sklearn.experimental import enable_iterative_imputer\n",
    "from sklearn.impute import IterativeImputer #As opposed to SimpleImputer or KNN.\n",
    "imp = IterativeImputer(random_state = 0, max_iter=1, initial_strategy = \"most_frequent\")\n",
    "df = imp.fit_transform(df) #Replace original with imputed values.\n",
    "df = pd.DataFrame(df, columns = (\"Energy\",'YearBuilt','Size','RValue','Floors')) #Convert from np.array.\n",
    "df['Floors'] = df['Floors'].astype(str) #Retype as a string var.\n",
    "df.head()"
   ]
  },
  {
   "cell_type": "code",
   "execution_count": 643,
   "metadata": {},
   "outputs": [
    {
     "data": {
      "text/plain": [
       "1374"
      ]
     },
     "execution_count": 643,
     "metadata": {},
     "output_type": "execute_result"
    }
   ],
   "source": [
    "len(df)"
   ]
  },
  {
   "cell_type": "code",
   "execution_count": 644,
   "metadata": {},
   "outputs": [
    {
     "data": {
      "text/plain": [
       "<matplotlib.axes._subplots.AxesSubplot at 0x1e4e554d4a8>"
      ]
     },
     "execution_count": 644,
     "metadata": {},
     "output_type": "execute_result"
    },
    {
     "data": {
      "image/png": "[encoded data removed]",
      "text/plain": [
       "<Figure size 1728x720 with 3 Axes>"
      ]
     },
     "metadata": {
      "needs_background": "light"
     },
     "output_type": "display_data"
    }
   ],
   "source": [
    "#Check missingness again.\n",
    "msno.bar(df)"
   ]
  },
  {
   "cell_type": "code",
   "execution_count": 645,
   "metadata": {},
   "outputs": [
    {
     "data": {
      "text/plain": [
       "<matplotlib.axes._subplots.AxesSubplot at 0x1e4e560ed68>"
      ]
     },
     "execution_count": 645,
     "metadata": {},
     "output_type": "execute_result"
    },
    {
     "data": {
      "image/png": "[encoded data removed]",
      "text/plain": [
       "<Figure size 432x288 with 2 Axes>"
      ]
     },
     "metadata": {
      "needs_background": "light"
     },
     "output_type": "display_data"
    }
   ],
   "source": [
    "#Correlation. \n",
    "corr = df.corr(method = 'spearman')\n",
    "sns.heatmap(corr,\n",
    "           annot = True)"
   ]
  },
  {
   "cell_type": "code",
   "execution_count": 646,
   "metadata": {},
   "outputs": [
    {
     "data": {
      "text/plain": [
       "Energy       43254.365278\n",
       "YearBuilt     3210.155435\n",
       "Size         46749.980319\n",
       "RValue         201.667083\n",
       "dtype: float64"
      ]
     },
     "execution_count": 646,
     "metadata": {},
     "output_type": "execute_result"
    }
   ],
   "source": [
    "#Variance of columns.\n",
    "df.var(axis=0)"
   ]
  },
  {
   "cell_type": "code",
   "execution_count": 651,
   "metadata": {},
   "outputs": [],
   "source": [
    "X = df[['YearBuilt', 'Size', 'RValue', 'Floors']] #Predictor vars\n",
    "y = df['Energy'] #Outcome var"
   ]
  },
  {
   "cell_type": "code",
   "execution_count": 652,
   "metadata": {},
   "outputs": [],
   "source": [
    "#Split the data.\n",
    "\n",
    "from sklearn.model_selection import train_test_split\n",
    "X_train, X_test, y_train, y_test = train_test_split(X, \n",
    "                                                    y, \n",
    "                                                    test_size=0.3, #Percentage allocated to test data. 70% to train.\n",
    "                                                    random_state=101) #Replicability seed."
   ]
  },
  {
   "cell_type": "code",
   "execution_count": null,
   "metadata": {},
   "outputs": [],
   "source": [
    "#Train the model and interpret results.  "
   ]
  }
 ],
 "metadata": {
  "kernelspec": {
   "display_name": "Python 3",
   "language": "python",
   "name": "python3"
  },
  "language_info": {
   "codemirror_mode": {
    "name": "ipython",
    "version": 3
   },
   "file_extension": ".py",
   "mimetype": "text/x-python",
   "name": "python",
   "nbconvert_exporter": "python",
   "pygments_lexer": "ipython3",
   "version": "3.7.3"
  }
 },
 "nbformat": 4,
 "nbformat_minor": 2
}
